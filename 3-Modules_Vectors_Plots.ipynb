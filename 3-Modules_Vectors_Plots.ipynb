{
 "metadata": {
  "name": "",
  "signature": "sha256:f900a3dcc1aff2ae107924c323ec232361759abf19bb37274ec5f4c96750142b"
 },
 "nbformat": 3,
 "nbformat_minor": 0,
 "worksheets": [
  {
   "cells": [
    {
     "cell_type": "markdown",
     "metadata": {},
     "source": [
      "# Modules, Vectors and Plotting (Oh my!)\n",
      "\n",
      "__NOTE:__ Before working on the notebook, please go to the 'file' menu, and __save a copy of the notebook!__ This will\n",
      "prevent your file from being overwritten by someone else.\n",
      "\n",
      "## Modules\n",
      "\n",
      "Modules are to Python what appliances are to a kitchen; they make a whole lotta stuff easier to do.  \n",
      "Modules are pre-baked collections of functions, classes and data that fulfill some specific task, e.g. numerical applications, symbolic math, plotting or optimization.\n",
      "\n",
      "To load a module, simply import it"
     ]
    },
    {
     "cell_type": "code",
     "collapsed": false,
     "input": [
      "import sympy # Sympy is used for symbolic math\n",
      "\n",
      "x, y = sympy.symbols('x y')\n",
      "z = sympy.sin(x*y*sin(x))\n",
      "print z.diff(x)"
     ],
     "language": "python",
     "metadata": {},
     "outputs": []
    },
    {
     "cell_type": "markdown",
     "metadata": {},
     "source": [
      "To avoid having to write long names, you can import the module as an alias:"
     ]
    },
    {
     "cell_type": "code",
     "collapsed": false,
     "input": [
      "import sympy as sp\n",
      "\n",
      "x, y = sp.symbols('x y')\n",
      "z = sp.sinh(x*y)\n",
      "print z.diff(x) # Still works!"
     ],
     "language": "python",
     "metadata": {},
     "outputs": []
    },
    {
     "cell_type": "markdown",
     "metadata": {},
     "source": [
      "If you need just a few functions, you can import only those functions:"
     ]
    },
    {
     "cell_type": "code",
     "collapsed": false,
     "input": [
      "from sympy import symbols, sinh\n",
      "\n",
      "x, y = symbols('x y')\n",
      "z = sinh(x*y)\n",
      "print z.diff(x) # Still works!"
     ],
     "language": "python",
     "metadata": {},
     "outputs": []
    },
    {
     "cell_type": "markdown",
     "metadata": {},
     "source": [
      "Modules can have submodules. For example, the scipy module has a submodule that has to do with statistical functions:"
     ]
    },
    {
     "cell_type": "code",
     "collapsed": false,
     "input": [
      "import scipy.stats as st # Note the alias!\n",
      "\n",
      "# Beta Prime distribution with shape params 2,2\n",
      "bp = st.betaprime(2, 2)\n",
      "print bp.rvs(10) # Generate some random numbers"
     ],
     "language": "python",
     "metadata": {},
     "outputs": []
    },
    {
     "cell_type": "markdown",
     "metadata": {},
     "source": [
      "The remainder of this session goes through the most commonly used modules for scientific work. Below are the modules I typically load when working."
     ]
    },
    {
     "cell_type": "code",
     "collapsed": false,
     "input": [
      "#import numpy as np # Numerics (vectors, matrices, ...)\n",
      "#import matplotlib.pyplot as plt # Plotting functions\n",
      "#import seaborn as sns # Pretty plots!\n",
      "#import pandas as pd # Structured data, .csv files, time series"
     ],
     "language": "python",
     "metadata": {},
     "outputs": []
    },
    {
     "cell_type": "markdown",
     "metadata": {},
     "source": [
      "Additional modules that may be worth knowing about:\n",
      " - Scipy (Huge collection of miscellanous scientific functions, statistics, regression etc.)\n",
      " - Basemap (Nice plotting for maps)\n",
      " - Pygrib (Geographical data handling)\n",
      " - BeautifulSoup (Parsing .xml files easily)\n",
      " - PyTables (Used for large dataset that can't be kept in memory)\n",
      " - PyOmo (Modeling library)\n",
      " - Scikit-learn (Machine learning library)\n",
      " - NetworkX (Network/Graph data library)"
     ]
    },
    {
     "cell_type": "markdown",
     "metadata": {},
     "source": [
      "## Vectors and linear algebra with Numpy"
     ]
    },
    {
     "cell_type": "markdown",
     "metadata": {},
     "source": [
      "Numpy implements vector, matrix and tensor structures in Python. All calculations are implemented in high-performance C and FORTRAN libraries, which means calculations are a lot faster than writing the loops out in pure Python.\n",
      "This is typical for Python libraries; even though you're writing in Python, the calculations in the background may take place in another language in order to make them faster."
     ]
    },
    {
     "cell_type": "code",
     "collapsed": false,
     "input": [
      "import numpy as np\n",
      "\n",
      "a = [1,2,3,4,5,6,7,8,9]\n",
      "c = np.array(a)\n",
      "print c*3\n",
      "print c**2\n",
      "print c*c # Equivalent to c.*c in MATLAB\n",
      "print np.dot(c,c) #For vectors, orientation doesn't matter in dot products.\n",
      "print c.dot(c) # Some functions are available on the vectors as well"
     ],
     "language": "python",
     "metadata": {},
     "outputs": []
    },
    {
     "cell_type": "markdown",
     "metadata": {},
     "source": [
      "Matrices are implemented via lists-of-lists."
     ]
    },
    {
     "cell_type": "code",
     "collapsed": false,
     "input": [
      "A = np.array([[1,2,3],[4,5,6]])\n",
      "b = np.array([7,8,9])\n",
      "print A\n",
      "print A.dot(b)\n",
      "print A.T # Transposition\n",
      "print A.T.dot(b) #Gives error due to orientation"
     ],
     "language": "python",
     "metadata": {},
     "outputs": []
    },
    {
     "cell_type": "markdown",
     "metadata": {},
     "source": [
      "Numpy has most of the \"standard\" library of linear algebra functions. (More functions are available in the SciPy module)\n",
      "\n",
      "__EX:__ Generate a random 4x4 matrix A (Hint: np.random. )\n",
      "\n",
      "Find the eigenvalues and eigenvectors of that matrix (Hint: np.linalg. )\n",
      "\n",
      "Generate a random 4x4x4 matrix B.\n",
      "\n",
      "Use Einstein summation (np.linalg.einsum?) to calculate the sum\n",
      "$$\\sum_{ij} A_{ij}, B_{ijk} = c_k$$\n",
      "\n",
      "Solve the system $ A \\vec{x} = c $ (Hint: np.linalg.solve)"
     ]
    },
    {
     "cell_type": "code",
     "collapsed": false,
     "input": [
      "# Write here"
     ],
     "language": "python",
     "metadata": {},
     "outputs": []
    },
    {
     "cell_type": "markdown",
     "metadata": {},
     "source": [
      "##Plotting data using Matplotlib\n",
      "\n",
      "Matplotlib handles everything to do with plots."
     ]
    },
    {
     "cell_type": "code",
     "collapsed": false,
     "input": [
      "import matplotlib.pyplot as plt\n",
      "# Tell matplotlib that we want to have plots appear in the notebook\n",
      "%matplotlib inline "
     ],
     "language": "python",
     "metadata": {},
     "outputs": [],
     "prompt_number": 2
    },
    {
     "cell_type": "code",
     "collapsed": false,
     "input": [
      "x = np.linspace(-10,10,201) #Generate evenly spaced points from -10 to 10\n",
      "plt.plot(x, np.sin(x)) # A plot!\n",
      "plt.plot(x, np.cos(x)) # Another line on the same plot!\n",
      "# (In MATLAB parlance, hold is on by default)"
     ],
     "language": "python",
     "metadata": {},
     "outputs": []
    },
    {
     "cell_type": "code",
     "collapsed": false,
     "input": [
      "# Since this workshop is run on a shared server,\n",
      "# please close down your figures when done\n",
      "# to free up RAM - run this box every once in a while\n",
      "plt.close('all')"
     ],
     "language": "python",
     "metadata": {},
     "outputs": []
    },
    {
     "cell_type": "markdown",
     "metadata": {},
     "source": [
      "Matplotlib supports subplots, legends and labels ala MATLAB. Plot parameters can be passed via keyword:"
     ]
    },
    {
     "cell_type": "code",
     "collapsed": false,
     "input": [
      "ax1 = plt.subplot(211)\n",
      "plt.plot(x, np.cos(np.arctan(x/3)*x), label='Wobbly state')\n",
      "plt.legend(frameon=True, fancybox=True)\n",
      "plt.ylabel('Swing state')\n",
      "ax2 = plt.subplot(212)\n",
      "plt.plot(x, np.sin(x),\n",
      "         label='Hi2', color='red',\n",
      "         linestyle='--', linewidth=4)\n",
      "plt.xlabel('Time delta [s]')\n",
      "plt.ylabel('Swing state, pendulum 2')"
     ],
     "language": "python",
     "metadata": {},
     "outputs": []
    },
    {
     "cell_type": "markdown",
     "metadata": {},
     "source": [
      "2-D plots are available as well:"
     ]
    },
    {
     "cell_type": "code",
     "collapsed": false,
     "input": [
      "x = np.linspace(-5, 5, 101)\n",
      "y = x.copy()\n",
      "X, Y = np.meshgrid(x, y) # 2d arrays\n",
      "plt.figure(figsize=(8, 6)) #Make a figure that will be 8 by 6 inches\n",
      "# Contour plots allow for custom color maps, ranges, etc.\n",
      "plt.contourf(X, Y, np.sin(X)*np.sin(Y), 21, # use 21 levels\n",
      "             vmin=-0.7, vmax=0.7, extend='both',\n",
      "             cmap=plt.cm.RdBu_r)\n",
      "cb = plt.colorbar()\n",
      "cb.set_label('Anomaly [cm]')\n",
      "plt.draw() #Update the colorbar label"
     ],
     "language": "python",
     "metadata": {},
     "outputs": []
    },
    {
     "cell_type": "markdown",
     "metadata": {},
     "source": [
      "Once you're happy with a plot, you can save it to disk:"
     ]
    },
    {
     "cell_type": "code",
     "collapsed": false,
     "input": [
      "plt.savefig('myfig.pdf') # Move this to the cell above; save commands must be in the same cell as the plotting commands."
     ],
     "language": "python",
     "metadata": {},
     "outputs": []
    },
    {
     "cell_type": "markdown",
     "metadata": {},
     "source": [
      "The standard matplotlib colors and layout are pretty basic. The seaborn package has some prettier standard settings, and some extra functions that are useful for data visualization. Just importing the package is enough to add the new settings:"
     ]
    },
    {
     "cell_type": "code",
     "collapsed": false,
     "input": [
      "import seaborn as sns\n",
      "sns.set_style('ticks') # I like the \"ticks\" style for plotting\n",
      "\n",
      "x = np.linspace(-10,10,201)\n",
      "plt.plot(x, np.sin(x)) # Now with more pretty!\n",
      "plt.plot(x, np.cos(x))"
     ],
     "language": "python",
     "metadata": {},
     "outputs": []
    },
    {
     "cell_type": "markdown",
     "metadata": {},
     "source": [
      "__EX:__ Making plots that are both clear and concise is necessary to communicating what you want with the data.\n",
      "\n",
      "The plot below shows some temperature data with an increase over time, but the author clearly hasn't thought about how best to show this. Clean up the figure in some of the following ways:\n",
      "\n",
      "- Look at the function sns.xkcd_palette, and the associated dictionary sns.xkcd_rgb, and use colors from this dictionary for the tasks below.\n",
      "- Switch from using scatter to using plot with no line, give the points a nicer color, and use the alpha keyword to make the points slightly transparent.\n",
      "- Use sns.regplot to plot a second-order regression line for the data. Remember to select nice colors! (Hint: Look at sns.regplot? for the parameters)\n",
      "- Add labels to the axes\n",
      "- Add labels to each of the plot commands, and add a legend to the plot\n",
      "- Use plt.grid to add a grid. Set the grid to be transparent by using the alpha parameter.\n",
      "- Use sns.despine to get rid of the upper and right-hand axes"
     ]
    },
    {
     "cell_type": "code",
     "collapsed": false,
     "input": [
      "x = np.arange(2*1980, 2*2014)/2.0\n",
      "y = 20 + (x - 1950)**0.1*(1 + 0.1*np.random.random(x.shape)) \\\n",
      "+ 0.1*np.random.normal(x.shape)"
     ],
     "language": "python",
     "metadata": {},
     "outputs": [],
     "prompt_number": 116
    },
    {
     "cell_type": "code",
     "collapsed": false,
     "input": [
      "plt.scatter(x, y)"
     ],
     "language": "python",
     "metadata": {},
     "outputs": [
      {
       "metadata": {},
       "output_type": "pyout",
       "prompt_number": 117,
       "text": [
        "<matplotlib.collections.PathCollection at 0x7f373ef84690>"
       ]
      },
      {
       "metadata": {},
       "output_type": "display_data",
       "png": "[encoded data removed]",
       "text": [
        "<matplotlib.figure.Figure at 0x7f373feda110>"
       ]
      }
     ],
     "prompt_number": 117
    },
    {
     "cell_type": "markdown",
     "metadata": {},
     "source": [
      "##Structured data with Pandas\n",
      "\n",
      "Pandas is both (i) a collection of data structures for structured data and (ii) a bunch of statistical functions.\n",
      "\n",
      "At the center of the Pandas ecosystem is the DataFrame, which is a matrix with indices for rows and columns.\n",
      "For instance, the code below builds DataFrames containing mean monthly temperatures for 3 US cities. (Source: dmi.dk)"
     ]
    },
    {
     "cell_type": "code",
     "collapsed": false,
     "input": [
      "import pandas as pd\n",
      "\n",
      "daytemps = pd.DataFrame(\n",
      "    index=['Jan','Feb','Mar','Apr','May','Jun','Jul','Aug','Sep','Oct','Nov','Dec'],\n",
      "    data={  # Note the use of a dictionary here to name the columns\n",
      "        'Baltimore':[6,8,14,19,25,29,31,31,27,21,15,8],\n",
      "        'Los_Angeles':[19,19,19,20,21,22,24,25,25,24,21,19],\n",
      "        'Anchorage':[-6,-3,1,6,12,16,18,17,13,5,-3,-5]}\n",
      "    )\n",
      "nighttemps = pd.DataFrame(\n",
      "    index=['Jan','Feb','Mar','Apr','May','Jun','Jul','Aug','Sep','Oct','Nov','Dec'],\n",
      "    data={  # Note the use of a dictionary here to name the columns\n",
      "        'Baltimore':[-3,-2,3,8,14,19,22,21,17,10,5,0],\n",
      "        'Los_Angeles':[9,10,10,12,14,15,17,18,17,15,12,9],\n",
      "        'Anchorage':[-13,-11,-8,-2,4,8,11,10,5,-2,-9,-12]}\n",
      "    )\n",
      "print daytemps"
     ],
     "language": "python",
     "metadata": {},
     "outputs": []
    },
    {
     "cell_type": "markdown",
     "metadata": {},
     "source": [
      "Columns and rows are indexable as below:"
     ]
    },
    {
     "cell_type": "code",
     "collapsed": false,
     "input": [
      "print 'Baltimore day temps:'\n",
      "print daytemps['Baltimore'] # Dictionary-style indexing of columns\n",
      "print 'Baltimore day temps:'\n",
      "print daytemps.Baltimore # Columns are available this way if properly named\n",
      "print 'June day temps:'\n",
      "print daytemps.ix['Jun'] # Row-indexing uses the .ix function\n",
      "print 'Summer night temps:'\n",
      "print nighttemps.ix['Jun':'Aug'] # Slicing is also available"
     ],
     "language": "python",
     "metadata": {},
     "outputs": []
    },
    {
     "cell_type": "markdown",
     "metadata": {},
     "source": [
      "Pandas hooks into matplotlib to plot data. Plots can be done directly from the dataframe. "
     ]
    },
    {
     "cell_type": "code",
     "collapsed": false,
     "input": [
      "import matplotlib.pyplot as plt\n",
      "import seaborn as sns\n",
      "import numpy as np\n",
      "%matplotlib inline\n",
      "sns.set_style('ticks')\n",
      "\n",
      "daytemps.plot()"
     ],
     "language": "python",
     "metadata": {},
     "outputs": []
    },
    {
     "cell_type": "markdown",
     "metadata": {},
     "source": [
      "Note that Pandas will by default plot to a new figure when asked to plot multiple things (in MATLAB parlance, \"hold\" is off), so we have to do a bit more to get it to plot the day and night temps on the same axes.\n",
      "Keywords for line attributes and labels are also supported"
     ]
    },
    {
     "cell_type": "code",
     "collapsed": false,
     "input": [
      "daytemps.Baltimore.plot(color='black', label='Day, Baltimore')\n",
      "ax = plt.gca() # Get the current axes\n",
      "daytemps.Los_Angeles.plot(ax=ax, color='red', label='Day, Los Angeles')\n",
      "nighttemps.Baltimore.plot(ax=ax, linestyle='--', color='black', label='Night, Baltimore')\n",
      "nighttemps.Los_Angeles.plot(ax=ax, linestyle='--', color='red', label='Night, Los Angeles')\n",
      "plt.ylabel(u'Temperature [\u00baC]')\n",
      "plt.legend(ncol=2, loc='lower center')"
     ],
     "language": "python",
     "metadata": {},
     "outputs": []
    },
    {
     "cell_type": "markdown",
     "metadata": {},
     "source": [
      "In most respects, DataFrames behave just like numpy arrays, and numpy functions work on them:"
     ]
    },
    {
     "cell_type": "code",
     "collapsed": false,
     "input": [
      "print 'Mean day and night temperature differences:'\n",
      "print (daytemps - nighttemps).mean()\n",
      "\n",
      "print 'RMS of day temperatures:'\n",
      "print np.sqrt((daytemps**2).mean(axis=1))\n"
     ],
     "language": "python",
     "metadata": {},
     "outputs": []
    },
    {
     "cell_type": "markdown",
     "metadata": {},
     "source": [
      "__\n",
      "\n",
      "__EX:__ Plot the day temperatures as a horizontal boxplot. (Hint: look at the possible options for plots in _daytemps.plot?_ )\n",
      "\n",
      "Plot a scatterplot of day temperature vs. night temperature in each city. (Hint: A for-loop over the column names might be helpful here...)"
     ]
    },
    {
     "cell_type": "code",
     "collapsed": false,
     "input": [
      "#Type type type..."
     ],
     "language": "python",
     "metadata": {},
     "outputs": []
    },
    {
     "cell_type": "markdown",
     "metadata": {},
     "source": [
      "-----------\n",
      "\n",
      "Pandas is useful for loading up and analyzing data. Below, we'll load up some data on various cars, contained in a .csv file."
     ]
    },
    {
     "cell_type": "code",
     "collapsed": false,
     "input": [
      "cardata = pd.read_csv('16tstcar.csv')\n",
      "print cardata.ix[0]\n",
      "cardata.plot(kind='scatter', x='Equivalent Test Weight (lbs.)', y='RND_ADJ_FE')\n",
      "\n",
      "cardata.plot(kind='scatter', x='Displacement (L)', y='RND_ADJ_FE')"
     ],
     "language": "python",
     "metadata": {},
     "outputs": []
    },
    {
     "cell_type": "markdown",
     "metadata": {},
     "source": [
      "Our data includes data points for both highway and town cycles, which could screw up our analysis. We should group the data points depending on which cycle they are from. The resulting object from the grouping (carbycycle) acts like a container of dataframes:"
     ]
    },
    {
     "cell_type": "code",
     "collapsed": false,
     "input": [
      "carbycycle = cardata.groupby('Test Category')\n",
      "print carbycycle.RND_ADJ_FE.mean() # Show the mean MPG for each category\n",
      "carhwy = carbycycle.get_group('HWY') # Only use highway data\n",
      "print carhwy.Model"
     ],
     "language": "python",
     "metadata": {},
     "outputs": []
    },
    {
     "cell_type": "markdown",
     "metadata": {},
     "source": [
      "For this reduced set of data points, we can look for the factors which impact MPG the most by running Ordinary Least Squares:"
     ]
    },
    {
     "cell_type": "code",
     "collapsed": false,
     "input": [
      "olsresult = pd.stats.ols.OLS(\n",
      "    carhwy.RND_ADJ_FE,\n",
      "# Pick out the columns we'd like to analyse\n",
      "    carhwy[['Equivalent Test Weight (lbs.)', \n",
      "        'Displacement (L)', 'Cylinders and Rotors','N/V Ratio',\n",
      "        'Gears', 'Axle Ratio', 'Rated Horsepower']]  \n",
      ")\n",
      "print olsresult.p_value # p-value < 0.05 => Potentially significant"
     ],
     "language": "python",
     "metadata": {},
     "outputs": []
    },
    {
     "cell_type": "markdown",
     "metadata": {},
     "source": [
      "__EX:__ Because of the small number of observations, the model above is most likely overfitted. Remove columns from the OLS calculation until you get down to the 3 most significant, then plot MPG versus those values to convince yourself that these are actually significant.\n",
      "\n",
      "For the 3 columns you found before, plot a scatterplot matrix of the data (Hint: pd.scatter_matrix).\n",
      "\n",
      "Do the same factors matter for town driving? (Test Category = FTP)"
     ]
    },
    {
     "cell_type": "code",
     "collapsed": false,
     "input": [
      "# Typing! Here!"
     ],
     "language": "python",
     "metadata": {},
     "outputs": [],
     "prompt_number": 123
    },
    {
     "cell_type": "markdown",
     "metadata": {},
     "source": [
      "## Making your own modules\n",
      "\n",
      "To make your own modules, simply place a .py file with the functions or data you want to import in the working directory.\n",
      "I've placed a file called \"myhelpers.py\" in this folder. You can import it as you would any module:"
     ]
    },
    {
     "cell_type": "code",
     "collapsed": false,
     "input": [
      "import myhelpers as mh\n",
      "import numpy as np\n",
      "\n",
      "a = np.array([-3, 4, 5, 4, -12, 100, -22, 0])\n",
      "\n",
      "print mh.pos(a)\n",
      "print mh.neg(a)"
     ],
     "language": "python",
     "metadata": {},
     "outputs": []
    },
    {
     "cell_type": "markdown",
     "metadata": {},
     "source": [
      "Below is the code in myhelpers.py"
     ]
    },
    {
     "cell_type": "code",
     "collapsed": false,
     "input": [
      "from numpy import where\n",
      "\n",
      "\n",
      "def pos(x):\n",
      "    \"\"\"\n",
      "        Returns (x)_+, i.e.\n",
      "        pos(x) = x if x > 0, else 0\n",
      "\n",
      "        Input:\n",
      "            x: numeric or array_like.\n",
      "\n",
      "        Output:\n",
      "            y: arraylike copy of x with negative entries set to 0\n",
      "    \"\"\"\n",
      "    return where(x > 0, x, 0)\n",
      "\n",
      "\n",
      "def neg(x):\n",
      "    \"\"\"\n",
      "        Returns (x)_-, i.e.\n",
      "        neg(x) = x if x < 0, else 0\n",
      "\n",
      "        Input:\n",
      "            x: numeric or array_like.\n",
      "\n",
      "        Output:\n",
      "            y: arraylike copy of x with positive entries set to 0\n",
      "    \"\"\"\n",
      "    return where(x < 0, x, 0)\n"
     ],
     "language": "python",
     "metadata": {},
     "outputs": []
    }
   ],
   "metadata": {}
  }
 ]
}