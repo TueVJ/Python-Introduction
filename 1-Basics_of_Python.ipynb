{
 "cells": [
  {
   "cell_type": "markdown",
   "metadata": {},
   "source": [
    "# Basics of Python\n",
    "This exercise notebook, and the next two, are meant for you, the student, to get familiar with Python 3.x. It was created by Tue V. Jensen as part of an internal CEE Introductory Python 2.x course for PhD students. It is updated/prettified by D. Esteban M. Bondy for this course. Any questions, please contact Esteban at bondy@elektro.dtu.dk.\n",
    "\n"
   ]
  },
  {
   "cell_type": "markdown",
   "metadata": {},
   "source": [
    "## Introduction\n",
    "This is an iPython notebook, where each cell can be run individually. The result from each cell is saved in workspace, so variables defined and run in one cell can be used in all cells.\n",
    "\n",
    "Each cell can be run through the *Cell* menu at the top, through the quick button (with the triangle/bar) in the top bar, or by pressing shift + enter when the cursor is active in the cell. \n",
    "\n",
    "Please read carefully the comments in each cell. Some cells are text cells (like this one) and some cells contain code."
   ]
  },
  {
   "cell_type": "code",
   "execution_count": 1,
   "metadata": {},
   "outputs": [
    {
     "data": {
      "text/html": [
       "<link href='http://fonts.googleapis.com/css?family=Alegreya+Sans:100,300,400,500,700,800,900,100italic,300italic,400italic,500italic,700italic,800italic,900italic' rel='stylesheet' type='text/css'>\n",
       "<link href='http://fonts.googleapis.com/css?family=Arvo:400,700,400italic' rel='stylesheet' type='text/css'>\n",
       "<link href='http://fonts.googleapis.com/css?family=PT+Mono' rel='stylesheet' type='text/css'>\n",
       "<link href='http://fonts.googleapis.com/css?family=Shadows+Into+Light' rel='stylesheet' type='text/css'>\n",
       "<link href='http://fonts.googleapis.com/css?family=Philosopher:400,700,400italic,700italic' rel='stylesheet' type='text/css'>\n",
       "\n",
       "<style>\n",
       "\n",
       "@font-face {\n",
       "    font-family: \"Computer Modern\";\n",
       "    src: url('http://mirrors.ctan.org/fonts/cm-unicode/fonts/otf/cmunss.otf');\n",
       "}\n",
       "\n",
       "#notebook_panel { /* main background */\n",
       "    background: #888;\n",
       "    color: #f6f6f6;\n",
       "}\n",
       "\n",
       "div.cell { /* set cell width to about 80 chars */\n",
       "    width: 800px;\n",
       "}\n",
       "\n",
       "div #notebook { /* centre the content */\n",
       "    background: #fff; /* white background for content */\n",
       "    width: 1000px;\n",
       "    margin: auto;\n",
       "    padding-left: 1em;\n",
       "}\n",
       "\n",
       "#notebook li { /* More space between bullet points */\n",
       "margin-top:0.8em;\n",
       "}\n",
       "\n",
       "/* draw border around running cells */\n",
       "div.cell.border-box-sizing.code_cell.running { \n",
       "    border: 3px solid #111;\n",
       "}\n",
       "\n",
       "/* Put a solid color box around each cell and its output, visually linking them together */\n",
       "div.cell.code_cell {\n",
       "    background-color: rgba(153,153,153,0.2); \n",
       "    border-radius: 10px; /* rounded borders */\n",
       "    padding: 1em;\n",
       "    margin-top: 1em;\n",
       "}\n",
       "\n",
       "div.text_cell_render{\n",
       "    font-family: 'Computer Modern' serif;\n",
       "    line-height: 130%;\n",
       "    font-size: 115%;\n",
       "    width:700px;\n",
       "    margin-left:auto;\n",
       "    margin-right:auto;\n",
       "}\n",
       "\n",
       "\n",
       "/* Formatting for header cells */\n",
       ".text_cell_render h1 {\n",
       "    font-family: 'Neo Sans', sans-serif;\n",
       "    font-weight: 300;\n",
       "    font-size: 40pt;\n",
       "    line-height: 100%;\n",
       "    color: rgb(153,0,0);\n",
       "    margin-bottom: 0.1em;\n",
       "    margin-top: 0.1em;\n",
       "    display: block;\n",
       "}\t\n",
       ".text_cell_render h2 {\n",
       "    font-family: 'Neo Sans', sans-serif;\n",
       "    font-weight: 300;\n",
       "    font-size: 24pt;\n",
       "    line-height: 100%;\n",
       "    color: rgb(153,0,0);\n",
       "    margin-bottom: 0.1em;\n",
       "    margin-top: 0.1em;\n",
       "    display: block;\n",
       "}\t\n",
       "\n",
       ".text_cell_render h3 {\n",
       "    font-family: 'Neo Sans', sans-serif;\n",
       "    margin-top:12px;\n",
       "    margin-bottom: 3px;\n",
       "    font-style: italic;\n",
       "    color: rgb(153,0,0);\n",
       "}\n",
       "\n",
       ".text_cell_render h4 {\n",
       "    font-family: 'Neo Sans', sans-serif;\n",
       "}\n",
       "\n",
       ".text_cell_render h5 {\n",
       "    font-family: 'Alegreya Sans', sans-serif;\n",
       "    font-weight: 300;\n",
       "    font-size: 16pt;\n",
       "    color: grey;\n",
       "    font-style: italic;\n",
       "    margin-bottom: .1em;\n",
       "    margin-top: 0.1em;\n",
       "    display: block;\n",
       "}\n",
       "\n",
       ".text_cell_render h6 {\n",
       "    font-family: 'PT Mono', sans-serif;\n",
       "    font-weight: 300;\n",
       "    font-size: 10pt;\n",
       "    color: grey;\n",
       "    margin-bottom: 1px;\n",
       "    margin-top: 1px;\n",
       "}\n",
       "\n",
       ".CodeMirror{\n",
       "        font-family: \"PT Mono\";\n",
       "        font-size: 100%;\n",
       "}\n",
       "\n",
       "</style>\n"
      ],
      "text/plain": [
       "<IPython.core.display.HTML object>"
      ]
     },
     "execution_count": 1,
     "metadata": {},
     "output_type": "execute_result"
    }
   ],
   "source": [
    "# Run this cell first to apply the style to the notebook\n",
    "from IPython.core.display import HTML\n",
    "css_file = './31380.css'\n",
    "HTML(open(css_file, \"r\").read())"
   ]
  },
  {
   "cell_type": "markdown",
   "metadata": {},
   "source": [
    "\n",
    "## Variables and Functions"
   ]
  },
  {
   "cell_type": "code",
   "execution_count": null,
   "metadata": {
    "collapsed": true
   },
   "outputs": [],
   "source": [
    "# Comments are written with a # in front\n",
    "\n",
    "# Assign the value 3 to variable x\n",
    "x = 3\n",
    "\n",
    "# Printing in Python 3.x uses the print function. Note that this is \n",
    "# one of the differences between Python 2.x and 3.x.\n",
    "print(x)"
   ]
  },
  {
   "cell_type": "code",
   "execution_count": null,
   "metadata": {
    "collapsed": true
   },
   "outputs": [],
   "source": [
    "# Function definitions start with the def keyword, and can return values.\n",
    "# Variables in the function definition can be used only locally\n",
    "def my_func(y):\n",
    "    return 2*y\n",
    "# Note that the above line is indented - that is how\n",
    "# you specify what's 'inside' a function definition in Python.\n",
    "\n",
    "print(my_func(4))\n",
    "print(my_func(x))\n",
    "print(y) # Gives an error"
   ]
  },
  {
   "cell_type": "code",
   "execution_count": null,
   "metadata": {
    "collapsed": true
   },
   "outputs": [],
   "source": [
    "# Functions can have multiple arguments, and can have default values\n",
    "# ** indicates exponentiation\n",
    "def my_func2(y, c=2, exponent=1):\n",
    "    return (c*y)**exponent\n",
    "\n",
    "print(my_func2(4))\n",
    "# Default values can be omitted...\n",
    "print(my_func2(x, 5))\n",
    "# ... And can be assigned using their name\n",
    "print(my_func2(1,exponent=2))"
   ]
  },
  {
   "cell_type": "markdown",
   "metadata": {},
   "source": [
    "__Ex 1__: Write a function that takes three arguments, and returns the first argument to the power of the second argument to the power of the third argument. Then make the second argument default to 3. What happens?"
   ]
  },
  {
   "cell_type": "code",
   "execution_count": null,
   "metadata": {
    "collapsed": true
   },
   "outputs": [],
   "source": [
    "def ex1_function():\n",
    "    # \"pass\" is used to indicate that the function\n",
    "    # doesn't return anything.\n",
    "    # It can be used as a placeholder for functions\n",
    "    # that are not yet finished.\n",
    "    pass"
   ]
  },
  {
   "cell_type": "markdown",
   "metadata": {},
   "source": [
    "## Lists\n",
    "\n",
    "Lists in python behave in much the same way as arrays in most languages."
   ]
  },
  {
   "cell_type": "code",
   "execution_count": null,
   "metadata": {
    "collapsed": true
   },
   "outputs": [],
   "source": [
    "# Make a list of numbers\n",
    "a = [1, 3, 4, 7, 8]\n",
    "\n",
    "print(a)\n",
    "# lists have lengths - len is a built-in function\n",
    "print(len(a))"
   ]
  },
  {
   "cell_type": "code",
   "execution_count": null,
   "metadata": {
    "collapsed": true
   },
   "outputs": [],
   "source": [
    "# Pick out a particular member of the list\n",
    "# NOTE: Indexing in Python starts at 0!\n",
    "print(a[0])\n",
    "print(a[3])"
   ]
  },
  {
   "cell_type": "code",
   "execution_count": null,
   "metadata": {
    "collapsed": true
   },
   "outputs": [],
   "source": [
    "# Use negative numbers to pick out elements from the back of the list\n",
    "print(a[-1])\n",
    "print(a[-3])"
   ]
  },
  {
   "cell_type": "code",
   "execution_count": null,
   "metadata": {
    "collapsed": true
   },
   "outputs": [],
   "source": [
    "# Cut out slices of the list\n",
    "print(a[2:])\n",
    "print(a[:3]) # Non-inclusive!\n",
    "print(a[1:-1])"
   ]
  },
  {
   "cell_type": "markdown",
   "metadata": {},
   "source": [
    "__Ex__: The ':' operator does more than you would think. Try the following."
   ]
  },
  {
   "cell_type": "code",
   "execution_count": null,
   "metadata": {
    "collapsed": true
   },
   "outputs": [],
   "source": [
    "# How would you choose every second item in 'a'?\n",
    "print(a[])\n",
    "# How would you reverse the order of 'a'?\n",
    "print(a[])\n",
    "# hint: Google is your friend."
   ]
  },
  {
   "cell_type": "code",
   "execution_count": null,
   "metadata": {
    "collapsed": true
   },
   "outputs": [],
   "source": [
    "# Pick out each element in turn and print it:\n",
    "for v in a:\n",
    "    print(v)\n",
    "# indentation is also used for 'for'-loops"
   ]
  },
  {
   "cell_type": "markdown",
   "metadata": {},
   "source": [
    "__Ex__: What do you think happens for each of the statements below? What actually happens? We'll come back to this later."
   ]
  },
  {
   "cell_type": "code",
   "execution_count": null,
   "metadata": {
    "collapsed": true
   },
   "outputs": [],
   "source": [
    "print(a*2)"
   ]
  },
  {
   "cell_type": "code",
   "execution_count": null,
   "metadata": {
    "collapsed": true
   },
   "outputs": [],
   "source": [
    "print(a**2)"
   ]
  },
  {
   "cell_type": "markdown",
   "metadata": {},
   "source": [
    "__Ex__: If you're ever in doubt as to what a function does, use the ? magic keyword"
   ]
  },
  {
   "cell_type": "code",
   "execution_count": null,
   "metadata": {
    "collapsed": true
   },
   "outputs": [],
   "source": [
    "len?"
   ]
  },
  {
   "cell_type": "markdown",
   "metadata": {},
   "source": [
    "## Working with lists\n",
    "\n",
    "A typical thing to do with lists is to take each value in the list, do something to it and make a new list with the results.\n",
    "\n",
    "Here are 4 ways to make a new list which contains the values of _a_, all doubled. I've listed them in increasing order of prettiness* - if you need to do something with a list, always try to use the bottom one first!\n",
    "\n",
    "*disclaimer: What Tue thinks of as pretty is subjective, but when writing in python try to be \"pythonic\":"
   ]
  },
  {
   "cell_type": "code",
   "execution_count": null,
   "metadata": {
    "collapsed": true
   },
   "outputs": [],
   "source": [
    "import this"
   ]
  },
  {
   "cell_type": "markdown",
   "metadata": {},
   "source": [
    "__Task__: Make the list _b_ have the elements of _a_, but multiplied by 2"
   ]
  },
  {
   "cell_type": "code",
   "execution_count": null,
   "metadata": {
    "collapsed": true
   },
   "outputs": [],
   "source": [
    "a = [1, 3 ,4, 7, 8, 12, 16]\n",
    "\n",
    "# Method 1: The FORTRAN/C way\n",
    "\n",
    "# Make a list of the same length as a:\n",
    "b = [0]*len(a)\n",
    "# Make an indexing variable\n",
    "i = 0\n",
    "# Run a for-loop over indices into the list\n",
    "while i < len(a):\n",
    "    b[i] = 2*a[i]\n",
    "    i = i + 1\n",
    "print(b)\n",
    "# This method takes a lot of work to set up!"
   ]
  },
  {
   "cell_type": "code",
   "execution_count": null,
   "metadata": {
    "collapsed": true
   },
   "outputs": [],
   "source": [
    "# Method 2: The \"I know about linked lists\"-way\n",
    "\n",
    "# Make an empty list\n",
    "b = []\n",
    "# Loop over each element in a, and add them to b\n",
    "for v in a:\n",
    "    b.append(2*v)\n",
    "    # The append command 'attaches' a value to\n",
    "    # the end of the list\n",
    "print(b)\n",
    "# Note that we didn't need indices - we can just\n",
    "# pick out the elements directly."
   ]
  },
  {
   "cell_type": "code",
   "execution_count": null,
   "metadata": {
    "collapsed": true
   },
   "outputs": [],
   "source": [
    "# Method 3: The \"I like functional programming and Hadoop\"-way\n",
    "\n",
    "# 'map' is a built-in function that can be used to apply a\n",
    "# function across the members of a list.\n",
    "# In Python 3.x the result of map is a generator and must be \n",
    "# cast into a list.\n",
    "print(list(map(my_func, a))) # my_func multiplies a number by 2\n",
    "\n",
    "# Bonus points: Look at the documentation for map"
   ]
  },
  {
   "cell_type": "code",
   "execution_count": null,
   "metadata": {
    "collapsed": true
   },
   "outputs": [],
   "source": [
    "# Method 4: The Python way\n",
    "\n",
    "# Write the for loop inside a list\n",
    "print([v*2 for v in a])\n",
    "# Notice that it's clear directly from the code what the\n",
    "# resulting list will be - and it's all in one line!"
   ]
  },
  {
   "cell_type": "markdown",
   "metadata": {},
   "source": [
    "This way of writing the lists directly is called a __list comprehension__. It is extremely powerful, as it lets you skip most of the busywork involved in working with lists.\n",
    "\n",
    "As a rule of thumb: If you are using indices in python, you are probably doing it wrong.\n",
    "\n",
    "Let's make the exercise slightly harder: Return a list of the values in a, squared, but only put them in the list if they are even."
   ]
  },
  {
   "cell_type": "code",
   "execution_count": null,
   "metadata": {
    "collapsed": true
   },
   "outputs": [],
   "source": [
    "# Return a list from a with the even values squared\n",
    "# Method 2: \"I still really like linked-lists!\"\n",
    "b = []\n",
    "for v in a:\n",
    "    if v % 2 == 0: # v % 2 == the remainder of v after division by 2\n",
    "        b.append(v**2)\n",
    "# Note the double indentation!\n",
    "print(b)"
   ]
  },
  {
   "cell_type": "code",
   "execution_count": null,
   "metadata": {
    "collapsed": true
   },
   "outputs": [],
   "source": [
    "# Method 4: The \"I'm not getting paid per line of code\"-way.\n",
    "print([v**2 for v in a if v % 2 == 0])"
   ]
  },
  {
   "cell_type": "markdown",
   "metadata": {},
   "source": [
    "Say we want to print the same list, but now for numbers that are not divisible by 3. We could split into multiple cases,\n",
    "but it's easier to just use the 'not' keyword."
   ]
  },
  {
   "cell_type": "code",
   "execution_count": null,
   "metadata": {
    "collapsed": true
   },
   "outputs": [],
   "source": [
    "print([v**2 for v in a if not v % 3 == 0])"
   ]
  },
  {
   "cell_type": "code",
   "execution_count": null,
   "metadata": {
    "collapsed": true
   },
   "outputs": [],
   "source": [
    "# A few examples of combining if-clauses\n",
    "print([v**2 for v in a if not v % 3 == 0 if v % 2 == 0])\n",
    "print([v**2 for v in a if not v % 3 == 0 and v % 2 == 0])\n",
    "print([v**2 for v in a if not v % 3 == 0 or v % 2 == 0])"
   ]
  },
  {
   "cell_type": "markdown",
   "metadata": {},
   "source": [
    "__Ex__: For the list _a_ below, make a new list that contains the values in _a_, cubed,\n",
    "    but only if the values of _a_ are even, greater than 11 and not divisible by 7."
   ]
  },
  {
   "cell_type": "code",
   "execution_count": null,
   "metadata": {
    "collapsed": true
   },
   "outputs": [],
   "source": [
    "a = [3, 5, 19, 7, 13, 73, 31, 22, 14, 28]\n",
    "a2 = [] # Your code here\n",
    "print(a2)"
   ]
  },
  {
   "cell_type": "markdown",
   "metadata": {},
   "source": [
    "If you need to combine elements from two lists, the _zip_ function is really handy:"
   ]
  },
  {
   "cell_type": "code",
   "execution_count": null,
   "metadata": {
    "collapsed": true
   },
   "outputs": [],
   "source": [
    "b1 = [4, 5, 3, 2, 34, 4]\n",
    "b2 = [7, 3, 4, 5, 21] # The lists don't have to be the same size!\n",
    "\n",
    "print(list(zip(b1, b2))) # as with map(), Python 3.x doesn't return a list anymore,\n",
    "                          # note the length of the resulting list.\n",
    "\n",
    "# We can assign multiple variables in a single for loop.\n",
    "print([x + y for x, y in zip(b1, b2)])"
   ]
  },
  {
   "cell_type": "markdown",
   "metadata": {},
   "source": [
    "__Ex:__ Make a list with the product of each element in turn from a, a2, b1 and b2. (Hint: _zip_ makes this easy)"
   ]
  },
  {
   "cell_type": "code",
   "execution_count": null,
   "metadata": {
    "collapsed": true
   },
   "outputs": [],
   "source": [
    "[] # !"
   ]
  }
 ],
 "metadata": {
  "kernelspec": {
   "display_name": "Python 3",
   "language": "python",
   "name": "python3"
  },
  "language_info": {
   "codemirror_mode": {
    "name": "ipython",
    "version": 3
   },
   "file_extension": ".py",
   "mimetype": "text/x-python",
   "name": "python",
   "nbconvert_exporter": "python",
   "pygments_lexer": "ipython3",
   "version": "3.6.4"
  }
 },
 "nbformat": 4,
 "nbformat_minor": 1
}
