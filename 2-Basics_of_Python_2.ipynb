{
 "cells": [
  {
   "cell_type": "markdown",
   "metadata": {},
   "source": [
    "# Basics of Python 2: The fun stuff\n",
    "\n",
    "Basics of Python 2 as in part 2, not Python 2.x, we're still using Python 3.x"
   ]
  },
  {
   "cell_type": "code",
   "execution_count": 1,
   "metadata": {},
   "outputs": [
    {
     "data": {
      "text/html": [
       "<link href='http://fonts.googleapis.com/css?family=Alegreya+Sans:100,300,400,500,700,800,900,100italic,300italic,400italic,500italic,700italic,800italic,900italic' rel='stylesheet' type='text/css'>\n",
       "<link href='http://fonts.googleapis.com/css?family=Arvo:400,700,400italic' rel='stylesheet' type='text/css'>\n",
       "<link href='http://fonts.googleapis.com/css?family=PT+Mono' rel='stylesheet' type='text/css'>\n",
       "<link href='http://fonts.googleapis.com/css?family=Shadows+Into+Light' rel='stylesheet' type='text/css'>\n",
       "<link href='http://fonts.googleapis.com/css?family=Philosopher:400,700,400italic,700italic' rel='stylesheet' type='text/css'>\n",
       "\n",
       "<style>\n",
       "\n",
       "@font-face {\n",
       "    font-family: \"Computer Modern\";\n",
       "    src: url('http://mirrors.ctan.org/fonts/cm-unicode/fonts/otf/cmunss.otf');\n",
       "}\n",
       "\n",
       "#notebook_panel { /* main background */\n",
       "    background: #888;\n",
       "    color: #f6f6f6;\n",
       "}\n",
       "\n",
       "div.cell { /* set cell width to about 80 chars */\n",
       "    width: 800px;\n",
       "}\n",
       "\n",
       "div #notebook { /* centre the content */\n",
       "    background: #fff; /* white background for content */\n",
       "    width: 1000px;\n",
       "    margin: auto;\n",
       "    padding-left: 1em;\n",
       "}\n",
       "\n",
       "#notebook li { /* More space between bullet points */\n",
       "margin-top:0.8em;\n",
       "}\n",
       "\n",
       "/* draw border around running cells */\n",
       "div.cell.border-box-sizing.code_cell.running { \n",
       "    border: 3px solid #111;\n",
       "}\n",
       "\n",
       "/* Put a solid color box around each cell and its output, visually linking them together */\n",
       "div.cell.code_cell {\n",
       "    background-color: rgba(153,153,153,0.2); \n",
       "    border-radius: 10px; /* rounded borders */\n",
       "    padding: 1em;\n",
       "    margin-top: 1em;\n",
       "}\n",
       "\n",
       "div.text_cell_render{\n",
       "    font-family: 'Computer Modern' serif;\n",
       "    line-height: 130%;\n",
       "    font-size: 115%;\n",
       "    width:700px;\n",
       "    margin-left:auto;\n",
       "    margin-right:auto;\n",
       "}\n",
       "\n",
       "\n",
       "/* Formatting for header cells */\n",
       ".text_cell_render h1 {\n",
       "    font-family: 'Neo Sans', sans-serif;\n",
       "    font-weight: 300;\n",
       "    font-size: 40pt;\n",
       "    line-height: 100%;\n",
       "    color: rgb(153,0,0);\n",
       "    margin-bottom: 0.1em;\n",
       "    margin-top: 0.1em;\n",
       "    display: block;\n",
       "}\t\n",
       ".text_cell_render h2 {\n",
       "    font-family: 'Neo Sans', sans-serif;\n",
       "    font-weight: 300;\n",
       "    font-size: 24pt;\n",
       "    line-height: 100%;\n",
       "    color: rgb(153,0,0);\n",
       "    margin-bottom: 0.1em;\n",
       "    margin-top: 0.1em;\n",
       "    display: block;\n",
       "}\t\n",
       "\n",
       ".text_cell_render h3 {\n",
       "    font-family: 'Neo Sans', sans-serif;\n",
       "    margin-top:12px;\n",
       "    margin-bottom: 3px;\n",
       "    font-style: italic;\n",
       "    color: rgb(153,0,0);\n",
       "}\n",
       "\n",
       ".text_cell_render h4 {\n",
       "    font-family: 'Neo Sans', sans-serif;\n",
       "}\n",
       "\n",
       ".text_cell_render h5 {\n",
       "    font-family: 'Alegreya Sans', sans-serif;\n",
       "    font-weight: 300;\n",
       "    font-size: 16pt;\n",
       "    color: grey;\n",
       "    font-style: italic;\n",
       "    margin-bottom: .1em;\n",
       "    margin-top: 0.1em;\n",
       "    display: block;\n",
       "}\n",
       "\n",
       ".text_cell_render h6 {\n",
       "    font-family: 'PT Mono', sans-serif;\n",
       "    font-weight: 300;\n",
       "    font-size: 10pt;\n",
       "    color: grey;\n",
       "    margin-bottom: 1px;\n",
       "    margin-top: 1px;\n",
       "}\n",
       "\n",
       ".CodeMirror{\n",
       "        font-family: \"PT Mono\";\n",
       "        font-size: 100%;\n",
       "}\n",
       "\n",
       "</style>\n"
      ],
      "text/plain": [
       "<IPython.core.display.HTML object>"
      ]
     },
     "execution_count": 1,
     "metadata": {},
     "output_type": "execute_result"
    }
   ],
   "source": [
    "# Run this cell first to apply the style to the notebook\n",
    "from IPython.core.display import HTML\n",
    "css_file = './31380.css'\n",
    "HTML(open(css_file, \"r\").read())"
   ]
  },
  {
   "cell_type": "markdown",
   "metadata": {},
   "source": [
    "## Strings\n",
    "\n",
    "Strings are defined using quotes - single or double quotes don't make a difference."
   ]
  },
  {
   "cell_type": "code",
   "execution_count": 2,
   "metadata": {},
   "outputs": [
    {
     "name": "stdout",
     "output_type": "stream",
     "text": [
      "This is Some Text. \n",
      "This also works\n",
      "If you want to put a ' in your string, you have to 'escape' it using \\.\n",
      "This string contains sp€cial ¢haracters and needs to be a unicode string - see the u in front.\n"
     ]
    }
   ],
   "source": [
    "my_string = \"This is Some Text. \"\n",
    "my_string_2 = 'This also works'\n",
    "my_string_3 = 'If you want to put a \\' in your string, you have to \\'escape\\' it using \\\\.'\n",
    "my_string_4 = u\"This string contains sp€cial ¢haracters and needs to be a unicode string - see the u in front.\"\n",
    "print(my_string)\n",
    "print(my_string_2)\n",
    "print(my_string_3)\n",
    "print(my_string_4)"
   ]
  },
  {
   "cell_type": "markdown",
   "metadata": {},
   "source": [
    "Strings function a lot like lists; you can loop over them and slice them up:"
   ]
  },
  {
   "cell_type": "code",
   "execution_count": 3,
   "metadata": {},
   "outputs": [
    {
     "name": "stdout",
     "output_type": "stream",
     "text": [
      "This \n",
      "T\n",
      "h\n",
      "i\n"
     ]
    }
   ],
   "source": [
    "print(my_string[:5])\n",
    "for c in my_string[:3]:\n",
    "    print(c)"
   ]
  },
  {
   "cell_type": "markdown",
   "metadata": {},
   "source": [
    "__Ex 1__: Strings have some functions attached to them, try writing 'my_string.' and pressing the tab key. Find out what 'split' and 'lower' do."
   ]
  },
  {
   "cell_type": "code",
   "execution_count": null,
   "metadata": {},
   "outputs": [],
   "source": [
    "# Write here"
   ]
  },
  {
   "cell_type": "markdown",
   "metadata": {},
   "source": [
    "The _format_ function allows you to replace parts of a string:"
   ]
  },
  {
   "cell_type": "code",
   "execution_count": 4,
   "metadata": {},
   "outputs": [
    {
     "name": "stdout",
     "output_type": "stream",
     "text": [
      "Strongest number is: 3, because I say so.\n",
      "You can also do multiple substitutions!\n",
      "Numbers can be formatted nicely: 11.342\n"
     ]
    }
   ],
   "source": [
    "print('Strongest number is: {}, because I say so.'.format(3))\n",
    "print('You can {0} do multiple {1}!'.format('also', 'substitutions'))\n",
    "print('Numbers can be formatted nicely: {:.03f}'.format(11.342424329))"
   ]
  },
  {
   "cell_type": "markdown",
   "metadata": {},
   "source": [
    "To join strings together, use +:"
   ]
  },
  {
   "cell_type": "code",
   "execution_count": 6,
   "metadata": {},
   "outputs": [
    {
     "name": "stdout",
     "output_type": "stream",
     "text": [
      "This is Some Text. This also works\n"
     ]
    }
   ],
   "source": [
    "print(my_string + my_string_2)"
   ]
  },
  {
   "cell_type": "markdown",
   "metadata": {},
   "source": [
    "# Dictionaries\n",
    "\n",
    "Dictionaries are like lists, but different in three ways:\n",
    "1. They are __unordered__.\n",
    "2. They can be indexed by (almost) __anything__.\n",
    "3. Finding an item in them takes the __same amount of time__ (O(1)), no matter how big the dictionary is. (Lists take longer to index into the longer the list is.)\n",
    "\n",
    "(1) means you have to be careful when using dictionaries: If your code depends on the order in which you loop over the items, use a list instead!  \n",
    "(2) means dictionaries are very good for unstructured data. (since you can index them with, e.g. the name of a person)  \n",
    "(3) means dictionaries scale really well when you have a _lot_ of data. (And in particular when you have very high-dimensional data)"
   ]
  },
  {
   "cell_type": "code",
   "execution_count": null,
   "metadata": {},
   "outputs": [],
   "source": [
    "# Dictionaries take key: value pairs\n",
    "a = {'John': 'Doe', 4: 'A number'}\n",
    "print(a['John'])\n",
    "# You can add to them later\n",
    "a['Jane'] = 'Tarzan'\n",
    "print(a)"
   ]
  },
  {
   "cell_type": "code",
   "execution_count": null,
   "metadata": {},
   "outputs": [],
   "source": [
    "# You can get a list of keys and values (The order\n",
    "# these come out in is not guaranteed to be the same every time!):\n",
    "print(a.keys())\n",
    "print(a.values())\n",
    "print(a.items())\n",
    "# They can also be empty:\n",
    "b = {}\n",
    "print(b)"
   ]
  },
  {
   "cell_type": "code",
   "execution_count": null,
   "metadata": {},
   "outputs": [],
   "source": [
    "# You can loop over dictionaries too.\n",
    "for k, v in a.items():\n",
    "    print(str(k) + ' ' + str(v))"
   ]
  },
  {
   "cell_type": "markdown",
   "metadata": {},
   "source": [
    "__Ex 2__: Write a dictionary that contains information about yourself; your name, your age, your education, your haircut. Write a dictionary that, when given your name, returns 'Hello', and when given your age, returns 'just a number'.\n",
    "Use an index into the first dictionary to index into the second - i.e. use a nesting of the two dictionaries."
   ]
  },
  {
   "cell_type": "code",
   "execution_count": null,
   "metadata": {},
   "outputs": [],
   "source": [
    "myself = {\n",
    "    'Name': '',# YourNameHere\n",
    "    # ... etc.\n",
    "}\n",
    "responses = {\n",
    "    'YourNameHere': '', # Response\n",
    "    # ... etc.\n",
    "}\n",
    "\n",
    "print(responses[myself['Name']])\n",
    "print('') # Number 2"
   ]
  },
  {
   "cell_type": "markdown",
   "metadata": {},
   "source": [
    "## Generators\n",
    "\n",
    "Generators are like lists, except they don't actually contain the full data at any time.\n",
    "\n",
    "For example, suppose we want to loop over 100.000.000 indices. If we kept all those indices in memory, the server would most likely crash:"
   ]
  },
  {
   "cell_type": "code",
   "execution_count": null,
   "metadata": {},
   "outputs": [],
   "source": [
    "print(list(range(10))) # list(range(N)) returns the list [0,1,...,N-1]"
   ]
  },
  {
   "cell_type": "code",
   "execution_count": null,
   "metadata": {},
   "outputs": [],
   "source": [
    "# Please don't run this!\n",
    "# print(list(range(100000000)))"
   ]
  },
  {
   "cell_type": "markdown",
   "metadata": {},
   "source": [
    "A much more efficient way to do this is to keep just the current index in memory, and increment it whenever we are asked for it.\n",
    "\n",
    "The simplest way to make a generator is to make a function that _yields_ numbers as we go along; whenever _yield_ is encountered, the generator spits out the value, and then waits to be asked for the next value."
   ]
  },
  {
   "cell_type": "code",
   "execution_count": null,
   "metadata": {},
   "outputs": [],
   "source": [
    "def my_generator(maximum=100):\n",
    "    i = 0\n",
    "    while i < maximum:\n",
    "        yield i\n",
    "        i += 1\n",
    "\n",
    "my_range = my_generator(10)\n",
    "print(my_range.__next__()) # __next__ is a built in function in all iterators\n",
    "print(next(my_range))  # in Python 3.x it has become more common to \n",
    "                        # use the next()function\n",
    "\n",
    "print([x for x in my_generator(25)])\n",
    "# The same function is built into Python 3.x as range.\n",
    "print([x for x in range(25)])"
   ]
  },
  {
   "cell_type": "markdown",
   "metadata": {},
   "source": [
    "The efficiency of using generators is such, that Python 3.x has adopted it as standard for basically everything, e.g. the *range* function. In Python 3.x we must force the output of *range()* to a *list*, as shown previously. In Python 2.x, *range()* returns a list."
   ]
  },
  {
   "cell_type": "markdown",
   "metadata": {},
   "source": [
    "__Ex 3__: Write a generator that outputs fibonnaci numbers. The N'th fibbonaci number is the sum of the two previous ones.  \n",
    "$X_N = X_{N-1} + X_{N-2}$, with $X_0 = X_1 = 1$"
   ]
  },
  {
   "cell_type": "code",
   "execution_count": null,
   "metadata": {},
   "outputs": [],
   "source": [
    "def my_fibonnaci(num=10):\n",
    "    # This implementation won't work correctly with maximum = 0 or 1.\n",
    "    # Don't worry about it.\n",
    "    i = 0\n",
    "    yield 1\n",
    "    i += 1\n",
    "    yield 1\n",
    "    i += 1\n",
    "    x_minus_2 = 1\n",
    "    x_minus_1 = 1\n",
    "    while i < num:\n",
    "        # Fill in the code here\n",
    "        yield  None\n",
    "\n",
    "print([n for n in my_fibonnaci(10)])"
   ]
  },
  {
   "cell_type": "markdown",
   "metadata": {},
   "source": [
    "Dictionaries have generators that mean you won't have to have the entire thing in memory twice:"
   ]
  },
  {
   "cell_type": "code",
   "execution_count": null,
   "metadata": {},
   "outputs": [],
   "source": [
    "my_dict = {i**2: i**4 for i in range(10)}\n",
    "# Dictionaries also have comprehensions for making them quickly!\n",
    "for k, v in my_dict.items():\n",
    "    print('{0} squared is {1}'.format(k, v))"
   ]
  },
  {
   "cell_type": "code",
   "execution_count": null,
   "metadata": {},
   "outputs": [],
   "source": [
    "# When using these, be careful not to add stuff to the dictionary:\n",
    "my_dict = {i: i**2 for i in range(10)}\n",
    "for k, v in my_dict.items():\n",
    "    my_dict[v] = v**2"
   ]
  },
  {
   "cell_type": "markdown",
   "metadata": {},
   "source": [
    "# Classes\n",
    "\n",
    "If you're not familiar with classes, think of them as variables that can have stuff attached to them.\n",
    "\n",
    "Classes are defined using the _class_ keyword. They must have an __init__ function defined inside to initialize them."
   ]
  },
  {
   "cell_type": "code",
   "execution_count": null,
   "metadata": {},
   "outputs": [],
   "source": [
    "class MyClass:\n",
    "    def __init__(self, x, c=2):\n",
    "    # Every function in a class has the 'self' keyword as the first argument.\n",
    "    # This is how you attach stuff to the class.\n",
    "        self.x = x\n",
    "        self.c = c\n",
    "    \n",
    "    def product(self):\n",
    "        return self.x * self.c\n",
    "        # return x * c would throw an error here - try it out!\n",
    "\n",
    "    def exponent(self, y):\n",
    "        return self.x ** y\n",
    "\n",
    "    def greet(self):\n",
    "        print('Greetings!')\n",
    "        return('Greetings to {}'.format(self.x))"
   ]
  },
  {
   "cell_type": "code",
   "execution_count": null,
   "metadata": {},
   "outputs": [],
   "source": [
    "# To use the class, we need to create an instance\n",
    "# of the class, an _object_\n",
    "o = MyClass(x=4)\n",
    "print(o.x)\n",
    "print(o.c)\n",
    "print(o.product())\n",
    "# Aside from the use of self, functions in a class work like any other.\n",
    "print(o.exponent(3))\n",
    "print(o.greet())"
   ]
  },
  {
   "cell_type": "code",
   "execution_count": null,
   "metadata": {},
   "outputs": [],
   "source": [
    "# You can have multiple instances of the same class,\n",
    "# each with a different set of parameters\n",
    "o2 = MyClass(x=11)\n",
    "print(o2.product())\n",
    "print(o.product())"
   ]
  },
  {
   "cell_type": "markdown",
   "metadata": {},
   "source": [
    "Classes are a good way of __organizing your code__ when you want __functions and data to go together__."
   ]
  },
  {
   "cell_type": "markdown",
   "metadata": {},
   "source": [
    "__Ex 4__: Write a class that can describe a person. The person needs to have a name, an age, and a phone number (set to 798-466-2633 by default). The class must have a function _describe_ which, when called, prints out the information about the person."
   ]
  },
  {
   "cell_type": "code",
   "execution_count": null,
   "metadata": {},
   "outputs": [],
   "source": [
    "class Person:\n",
    "    def __init__():\n",
    "        pass\n",
    "\n",
    "    def describe():\n",
    "        print ''\n",
    "        pass\n",
    "\n",
    "p1 = Person(...)\n",
    "p2 = Person(...)\n",
    "p1.describe()\n",
    "p2.describe()"
   ]
  }
 ],
 "metadata": {
  "kernelspec": {
   "display_name": "Python 3",
   "language": "python",
   "name": "python3"
  },
  "language_info": {
   "codemirror_mode": {
    "name": "ipython",
    "version": 3
   },
   "file_extension": ".py",
   "mimetype": "text/x-python",
   "name": "python",
   "nbconvert_exporter": "python",
   "pygments_lexer": "ipython3",
   "version": "3.6.2"
  }
 },
 "nbformat": 4,
 "nbformat_minor": 1
}
