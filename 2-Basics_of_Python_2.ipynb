{
 "metadata": {
  "name": "",
  "signature": "sha256:7a1aa5edd9840f604fe2b86469938f050129152e252647e2a414a5ac9240f891"
 },
 "nbformat": 3,
 "nbformat_minor": 0,
 "worksheets": [
  {
   "cells": [
    {
     "cell_type": "markdown",
     "metadata": {},
     "source": [
      "# Basics of Python 2: The fun stuff\n",
      "\n",
      "__NOTE:__ Before working on the notebook, please go to the 'file' menu, and __save a copy of the notebook!__ This will prevent your file from being overwritten by someone else.\n",
      "\n",
      "## Strings\n",
      "\n",
      "Strings are defined using quotes - single or double quotes don't make a difference."
     ]
    },
    {
     "cell_type": "code",
     "collapsed": false,
     "input": [
      "my_string = \"This is Some Text. \"\n",
      "my_string_2 = 'This also works'\n",
      "my_string_3 = 'If you want to put a \\' in your string, you have to \\'escape\\' it using \\\\.'\n",
      "my_string_4 = u\"This string contains sp\u20accial \u00a2haracters and needs to be a unicode string - see the u in front.\"\n",
      "print my_string\n",
      "print my_string_2\n",
      "print my_string_3\n",
      "print my_string_4"
     ],
     "language": "python",
     "metadata": {},
     "outputs": []
    },
    {
     "cell_type": "markdown",
     "metadata": {},
     "source": [
      "Strings function a lot like lists; you can loop over them and slice them up:"
     ]
    },
    {
     "cell_type": "code",
     "collapsed": false,
     "input": [
      "print my_string[:5]\n",
      "for c in my_string[:3]:\n",
      "    print c"
     ],
     "language": "python",
     "metadata": {},
     "outputs": []
    },
    {
     "cell_type": "markdown",
     "metadata": {},
     "source": [
      "__Ex 1__: Strings have some functions attached to them, try writing 'my_string.' and pressing the tab key. Find out what 'split' and 'lower' do."
     ]
    },
    {
     "cell_type": "code",
     "collapsed": false,
     "input": [
      "# Write here"
     ],
     "language": "python",
     "metadata": {},
     "outputs": []
    },
    {
     "cell_type": "markdown",
     "metadata": {},
     "source": [
      "The _format_ function allows you to replace parts of a string:"
     ]
    },
    {
     "cell_type": "code",
     "collapsed": false,
     "input": [
      "print 'Strongest number is: {}, because {}.'.format(4)\n",
      "print 'You can {0} do multiple {1}!'.format('also', 'substitutions')\n",
      "print 'Numbers can be formatted nicely: {:.03f}'.format(11.342424329)"
     ],
     "language": "python",
     "metadata": {},
     "outputs": []
    },
    {
     "cell_type": "markdown",
     "metadata": {},
     "source": [
      "To join strings together, use +:"
     ]
    },
    {
     "cell_type": "code",
     "collapsed": false,
     "input": [
      "print my_string + my_string_2"
     ],
     "language": "python",
     "metadata": {},
     "outputs": []
    },
    {
     "cell_type": "markdown",
     "metadata": {},
     "source": [
      "# Dictionaries\n",
      "\n",
      "Dictionaries are like lists, but different in three ways:\n",
      "1. They are __unordered__.\n",
      "2. They can be indexed by (almost) __anything__.\n",
      "3. Finding an item in them takes the __same amount of time__ (O(1)), no matter how big the dictionary is. (Lists take longer to index into the longer the list is.)\n",
      "\n",
      "(1) means you have to be careful when using dictionaries: If your code depends on the order in which you loop over the items, use a list instead!  \n",
      "(2) means dictionaries are very good for unstructured data. (since you can index them with, e.g. the name of a person)  \n",
      "(3) means dictionaries scale really well when you have a _lot_ of data. (And in particular when you have very high-dimensional data)"
     ]
    },
    {
     "cell_type": "code",
     "collapsed": false,
     "input": [
      "# Dictionaries take key: value pairs\n",
      "a = {'John': 'Doe', 4: 'A number'}\n",
      "print a['John']\n",
      "# You can add to them later\n",
      "a['Jane'] = 'Tarzan'\n",
      "print a"
     ],
     "language": "python",
     "metadata": {},
     "outputs": []
    },
    {
     "cell_type": "code",
     "collapsed": false,
     "input": [
      "# You can get a list of keys and values (The order\n",
      "# these come out in is not guaranteed to be the same every time!):\n",
      "print a.keys()\n",
      "print a.values()\n",
      "print a.items()\n",
      "# They can also be empty:\n",
      "b = {}\n",
      "print b"
     ],
     "language": "python",
     "metadata": {},
     "outputs": [],
     "prompt_number": 1
    },
    {
     "cell_type": "code",
     "collapsed": false,
     "input": [
      "# You can loop over dictionaries too.\n",
      "for k, v in a.items():\n",
      "    print str(k) + ' ' + str(v)"
     ],
     "language": "python",
     "metadata": {},
     "outputs": []
    },
    {
     "cell_type": "markdown",
     "metadata": {},
     "source": [
      "__Ex 2__: Write a dictionary that contains information about yourself; your name, your age, your education, your haircut. Write a dictionary that, when given your name, returns 'Hello', and when given your age, returns 'just a number'.\n",
      "Use an index into the first dictionary to index into the second - i.e. use a nesting of the two dictionaries."
     ]
    },
    {
     "cell_type": "code",
     "collapsed": false,
     "input": [
      "myself = {\n",
      "    'Name': '',# YourNameHere\n",
      "    # ... etc.\n",
      "}\n",
      "responses = {\n",
      "    'YourNameHere': '', # Response\n",
      "    # ... etc.\n",
      "}\n",
      "\n",
      "print responses[myself['Name']]\n",
      "print '' # Number 2"
     ],
     "language": "python",
     "metadata": {},
     "outputs": []
    },
    {
     "cell_type": "markdown",
     "metadata": {},
     "source": [
      "## Generators\n",
      "\n",
      "Generators are like lists, except they don't actually contain the full data at any time.\n",
      "\n",
      "For example, suppose we want to loop over 100.000.000 indices. If we kept all those indices in memory, the server would most likely crash:"
     ]
    },
    {
     "cell_type": "code",
     "collapsed": false,
     "input": [
      "print range(10) # range(N) returns the list [0,1,...,N-1]"
     ],
     "language": "python",
     "metadata": {},
     "outputs": []
    },
    {
     "cell_type": "code",
     "collapsed": false,
     "input": [
      "# Please don't run this!\n",
      "# print range(100000000)"
     ],
     "language": "python",
     "metadata": {},
     "outputs": []
    },
    {
     "cell_type": "markdown",
     "metadata": {},
     "source": [
      "A much more efficient way to do this is to keep just the current index in memory, and increment it whenever we are asked for it.\n",
      "\n",
      "The simplest way to make a generator is to make a function that _yields_ numbers as we go along; whenever _yield_ is encountered, the generator spits out the value, and then waits to be asked for the next value."
     ]
    },
    {
     "cell_type": "code",
     "collapsed": false,
     "input": [
      "def my_generator(maximum=100):\n",
      "    i = 0\n",
      "    while i < maximum:\n",
      "        yield i\n",
      "        i += 1\n",
      "\n",
      "my_range = my_generator(10)\n",
      "print my_range.next()\n",
      "print my_range.next()\n",
      "print [x for x in my_generator(25)]\n",
      "# The same function is built into Python as xrange.\n",
      "print [x for x in xrange(25)]"
     ],
     "language": "python",
     "metadata": {},
     "outputs": []
    },
    {
     "cell_type": "markdown",
     "metadata": {},
     "source": [
      "__Ex 3__: Write a generator that outputs fibonnaci numbers. The N'th fibbonaci number is the sum of the two previous ones.  \n",
      "$X_N = X_{N-1} + X_{N-2}$, with $X_0 = X_1 = 1$"
     ]
    },
    {
     "cell_type": "code",
     "collapsed": false,
     "input": [
      "def my_fibonnaci(maximum=10):\n",
      "    # This implementation won't work correctly with maximum = 0 or 1.\n",
      "    # Don't worry about it.\n",
      "    i = 0\n",
      "    yield 1\n",
      "    i += 1\n",
      "    yield 1\n",
      "    i += 1\n",
      "    x_minus_2 = 1\n",
      "    x_minus_1 = 1\n",
      "    while i < maximum:\n",
      "        # Fill in the code here\n",
      "        yield None\n",
      "\n",
      "print [n for n in my_fibonnaci(10)]"
     ],
     "language": "python",
     "metadata": {},
     "outputs": []
    },
    {
     "cell_type": "markdown",
     "metadata": {},
     "source": [
      "Dictionaries have generators that mean you won't have to have the entire thing in memory twice:"
     ]
    },
    {
     "cell_type": "code",
     "collapsed": false,
     "input": [
      "my_dict = {i**2: i**4 for i in xrange(10)}\n",
      "# Dictionaries also have comprehensions for making them quickly!\n",
      "for k, v in my_dict.iteritems():\n",
      "    print '{0} squared is {1}'.format(k, v)"
     ],
     "language": "python",
     "metadata": {},
     "outputs": []
    },
    {
     "cell_type": "code",
     "collapsed": false,
     "input": [
      "# When using these, be careful not to add stuff to the dictionary:\n",
      "my_dict = {i: i**2 for in xrange(10)}\n",
      "for k, v in my_dict.iteritems():\n",
      "    my_dict[v] = v**2"
     ],
     "language": "python",
     "metadata": {},
     "outputs": []
    },
    {
     "cell_type": "markdown",
     "metadata": {},
     "source": [
      "# Classes\n",
      "\n",
      "If you're not familiar with classes, think of them as variables that can have stuff attached to them.\n",
      "\n",
      "Classes are defined using the _class_ keyword. They must have an __init__ function defined inside to initialize them."
     ]
    },
    {
     "cell_type": "code",
     "collapsed": false,
     "input": [
      "class MyClass:\n",
      "    def __init__(self, x, c=2):\n",
      "    # Every function in a class has the 'self' keyword as the first argument.\n",
      "    # This is how you attach stuff to the class.\n",
      "    self.x = x\n",
      "    self.c = c\n",
      "    \n",
      "    def product(self):\n",
      "        return self.x * self.c\n",
      "        # return x * c would throw an error here - try it out!\n",
      "\n",
      "    def exponent(self, y):\n",
      "        return self.x ** y\n",
      "\n",
      "    def greet(self):\n",
      "        print 'Greetings!'\n",
      "        return 'Greetings to {}'.format(x)"
     ],
     "language": "python",
     "metadata": {},
     "outputs": []
    },
    {
     "cell_type": "code",
     "collapsed": false,
     "input": [
      "# To use the class, we need to create an instance\n",
      "# of the class, an _object_\n",
      "o = MyClass(x=4)\n",
      "print o.x\n",
      "print o.c\n",
      "print o.product()\n",
      "# Aside from the use of self, functions in a class work like any other.\n",
      "print o.exponent(3)\n",
      "print o.greet()"
     ],
     "language": "python",
     "metadata": {},
     "outputs": []
    },
    {
     "cell_type": "code",
     "collapsed": false,
     "input": [
      "# You can have multiple instances of the same class,\n",
      "# each with a different set of parameters\n",
      "o2 = MyClass(x=11)\n",
      "print o2.product()\n",
      "print o.product()"
     ],
     "language": "python",
     "metadata": {},
     "outputs": []
    },
    {
     "cell_type": "markdown",
     "metadata": {},
     "source": [
      "Classes are a good way of __organizing your code__ when you want __functions and data to go together__. We'll meet them again when we do optimization."
     ]
    },
    {
     "cell_type": "markdown",
     "metadata": {},
     "source": [
      "__Ex 4__: Write a class that can describe a person. The person needs to have a name, an age, and a phone number (set to 798-466-2633 by default). The class must have a function _describe_ which, when called, prints out the information about the person."
     ]
    },
    {
     "cell_type": "code",
     "collapsed": false,
     "input": [
      "class Person:\n",
      "    def __init__():\n",
      "        pass\n",
      "\n",
      "    def describe():\n",
      "        print ''\n",
      "        pass\n",
      "\n",
      "p1 = Person(...)\n",
      "p2 = Person(...)\n",
      "p1.describe()\n",
      "p2.describe()"
     ],
     "language": "python",
     "metadata": {},
     "outputs": []
    }
   ],
   "metadata": {}
  }
 ]
}