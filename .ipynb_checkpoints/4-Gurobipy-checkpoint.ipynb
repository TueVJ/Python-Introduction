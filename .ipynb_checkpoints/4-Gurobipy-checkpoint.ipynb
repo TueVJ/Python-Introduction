{
 "cells": [
  {
   "cell_type": "markdown",
   "metadata": {},
   "source": [
    "# Gurobi in Python\n",
    "\n",
    "__NOTE:__ Before working on the notebook, please go to the 'file' menu, and __save a copy of the notebook!__ This will\n",
    "prevent your file from being overwritten by someone else.\n",
    "\n",
    "## Gurobipy\n",
    "\n",
    "Gurobi for Python solves linear, quadratic and mixed-integer optimization problems. A main advantage of Gurobi over other solvers is that it has a very nice Python interface which allows writing optimization problems directly in Python in a style similar to GAMS."
   ]
  },
  {
   "cell_type": "code",
   "execution_count": null,
   "metadata": {},
   "outputs": [],
   "source": [
    "import numpy as np\n",
    "import pandas as pd\n",
    "import matplotlib.pyplot as plt\n",
    "import seaborn as sns\n",
    "import gurobipy as gb\n",
    "\n",
    "%matplotlib inline\n",
    "sns.set_style('ticks')"
   ]
  },
  {
   "cell_type": "markdown",
   "metadata": {},
   "source": [
    "Below, the problem\n",
    "\n",
    "$$ \\max y - 0.3 x$$\n",
    "$$ s.t. \\;\\;\\; 1 - u \\leq x \\leq 4 - 2u $$\n",
    "$$ y \\leq 3 + u $$\n",
    "$$ y \\leq 1 + x $$\n",
    "$$ x,y \\in \\mathbf{R}_+, u \\in \\{0,1\\}$$\n",
    "\n",
    "is solved"
   ]
  },
  {
   "cell_type": "code",
   "execution_count": null,
   "metadata": {},
   "outputs": [],
   "source": [
    "m = gb.Model() # Initialize the model\n",
    "\n",
    "x = m.addVar(lb=0, ub=4) # Set lower and upper bounds\n",
    "y = m.addVar() # Default bounds are lb = 0, ub = infinity\n",
    "u = m.addVar(vtype=gb.GRB.BINARY) # Indicate that u is a binary variable\n",
    "\n",
    "m.update() # Let Gurobi know that we've added variables to the model\n",
    "\n",
    "m.setObjective(y - 0.3*x, gb.GRB.MAXIMIZE) # Set the objective, and indicate that we want to maximize it\n",
    "\n",
    "# Add constraints\n",
    "c1 = m.addConstr(1 - u, gb.GRB.LESS_EQUAL, x)\n",
    "c2 = m.addConstr(x, gb.GRB.LESS_EQUAL, 4 - 2*u)\n",
    "c3 = m.addConstr(y, gb.GRB.LESS_EQUAL, 3 + u)\n",
    "c4 = m.addConstr(y, gb.GRB.LESS_EQUAL, 1 + x)"
   ]
  },
  {
   "cell_type": "code",
   "execution_count": null,
   "metadata": {},
   "outputs": [],
   "source": [
    "# Optimize and print results\n",
    "\n",
    "m.optimize()\n",
    "\n",
    "print 'Found objective value: {}'.format(m.ObjVal)\n",
    "print 'At x: {0:.03f}, y={1:.03f}, u={2}'.format(x.x, y.x, u.x)"
   ]
  },
  {
   "cell_type": "markdown",
   "metadata": {},
   "source": [
    "Because the entire model is available in Python it's easy to update variable parameters:"
   ]
  },
  {
   "cell_type": "code",
   "execution_count": null,
   "metadata": {},
   "outputs": [],
   "source": [
    "m.params.OutputFlag = False # Suppress diagnostic output\n",
    "xubs = np.linspace(0, 4, 17)\n",
    "objs = []\n",
    "for xub in xubs:\n",
    "    x.ub = xub\n",
    "    m.optimize()\n",
    "    objs.append(m.ObjVal)\n",
    "\n",
    "plt.plot(xubs, objs)\n",
    "plt.xlabel('X\\'s upper bound')\n",
    "plt.ylabel('Objective value')"
   ]
  },
  {
   "cell_type": "markdown",
   "metadata": {},
   "source": [
    "This means that even when optimizing for a very large amount of data, you don't have to rebuild the entire model each time (which may be very slow!), but can instead just update variable bounds and the constants for constraints."
   ]
  },
  {
   "cell_type": "markdown",
   "metadata": {},
   "source": [
    "## Ex1: Simple market clearing\n",
    "\n",
    "In an electricity market, three generators have parameters as below:\n",
    "\n",
    "|    | Power [MW] | Price [\\$/MWh] |\n",
    "|----|----|--|\n",
    "| G1 | 40         | 10  |\n",
    "| G2 | 50         | 20  |\n",
    "| G3 | 30         | 30  |\n",
    "\n",
    "System load for an hour is at most 100 MW.\n",
    "Demand is assumed to respond to market prices with an elasticity $$\\epsilon = -0.1$$ at 10\\$/MWh for 90 MW of load served.\n",
    "\n",
    "The market clearing may be written as the optimization model\n",
    "$$ \\max 10 (1 - 1/\\epsilon) * l + \\frac{10}{2 \\cdot 90 \\epsilon} l^2 - 10 p_{g_1} - 20 p_{g_2} - 30 p_{g_3}$$\n",
    "$$ s.t. \\; \\; p_{g_1} + p_{g_2} + p_{g_3} = l : \\lambda $$\n",
    "$$ 0 \\leq p_{g_1} \\leq 40 $$\n",
    "$$ 0 \\leq p_{g_2} \\leq 50 $$\n",
    "$$ 0 \\leq p_{g_3} \\leq 30 $$\n",
    "$$ 0 \\leq l \\leq 100 $$\n",
    "\n",
    "Implement the above model. Report the electricity price $\\lambda$ in the market and the production of each generator.\n",
    "\n",
    "Hint: The dual of a constraint C is available as C.pi"
   ]
  },
  {
   "cell_type": "code",
   "execution_count": null,
   "metadata": {},
   "outputs": [],
   "source": [
    "# Init model\n",
    "\n",
    "# Build variables\n",
    "\n",
    "# Define objective function\n",
    "\n",
    "# Build constraint"
   ]
  },
  {
   "cell_type": "markdown",
   "metadata": {},
   "source": [
    "## Building larger problems\n",
    "\n",
    "Having a python variable for each model variable quickly becomes tedious to keep track of. By using the full suite of python's data structures, very large models can be constructed while keeping the code organized and tidy.\n",
    "\n",
    "Typical solutions are:\n",
    "- Use a class to contain the optimization model and all associated data\n",
    "- Use dictionaries to keep track of variables and constraints\n",
    "- Split functions off into seperate files or functions attached to the class to keep the main script short\n",
    "\n",
    "Below, the model from the previous example is cleared for several hours, with the additional constraint that generators G1 and G2 cannot change their production by more than 5% and 10%, respectively, of their maximum from hour to hour:\n",
    "$$ -0.1 \\cdot p_g^{max} \\leq p_{g,t} - p_{g,t-1}\\leq 0.1 \\cdot p_g^{max} $$"
   ]
  },
  {
   "cell_type": "code",
   "execution_count": null,
   "metadata": {},
   "outputs": [],
   "source": [
    "class expando(object):\n",
    "    '''\n",
    "        A small class which can have attributes set\n",
    "    '''\n",
    "    pass\n",
    "\n",
    "class MarketClearing:\n",
    "    def __init__(self):\n",
    "        self.data = expando()\n",
    "        self.variables = expando()\n",
    "        self.constraints = expando()\n",
    "        self._load_data()\n",
    "        self._build_model()\n",
    "    \n",
    "    def optimize(self):\n",
    "        self.model.optimize()\n",
    "    \n",
    "    def _load_data(self):\n",
    "        self.data.taus = np.arange(24)\n",
    "        self.data.generators = ['G1', 'G2', 'G3']\n",
    "        self.data.load = {t: np.cos(2*np.pi*(t-12)/24)*45 + 85 for t in self.data.taus}\n",
    "        self.data.baseload = {t: l-10 for t,l in self.data.load.items()}\n",
    "        self.data.baseprice = 10\n",
    "        self.data.maxprod = {'G1': 40, 'G2': 50, 'G3': 40}\n",
    "        self.data.genprice = {'G1': 10, 'G2': 20, 'G3': 30}\n",
    "        self.data.ramplimit = {'G1': 0.05, 'G2': 0.1, 'G3': 1.0}\n",
    "        self.data.eps = -0.1\n",
    "    \n",
    "    def _build_model(self):\n",
    "        self.model = gb.Model()\n",
    "        self._build_variables()\n",
    "        self._build_objective()\n",
    "        self._build_constraints()\n",
    "    \n",
    "    def _build_variables(self):\n",
    "        m = self.model\n",
    "        \n",
    "        self.variables.gprod = {}\n",
    "        for t in self.data.taus:\n",
    "            for g in self.data.generators:\n",
    "                self.variables.gprod[g, t] = m.addVar(lb=0, ub=self.data.maxprod[g])\n",
    "        \n",
    "        self.variables.loadserved = {}\n",
    "        for t in self.data.taus:\n",
    "            self.variables.loadserved[t] = m.addVar(lb=0, ub=self.data.load[t])\n",
    "        \n",
    "        m.update()\n",
    "    \n",
    "    def _build_objective(self):\n",
    "        bp = self.data.baseprice\n",
    "        bl = self.data.baseload\n",
    "        eps = self.data.eps\n",
    "        taus = self.data.taus\n",
    "        gens = self.data.generators\n",
    "        loadserved = self.variables.loadserved\n",
    "        \n",
    "        # Quicksum is faster than python's built-in sum function when building large models\n",
    "        self.model.setObjective(\n",
    "            gb.quicksum(bp * (1-1/eps) * loadserved[t] for t in taus)\n",
    "            + gb.quicksum(bp/(2* bl[t] *eps) * loadserved[t]*loadserved[t] for t in taus)\n",
    "            - gb.quicksum( self.data.genprice[g] * self.variables.gprod[g, t] for t in taus for g in gens),\n",
    "            gb.GRB.MAXIMIZE)\n",
    "    \n",
    "    def _build_constraints(self):\n",
    "        m = self.model\n",
    "        \n",
    "        self.constraints.powerbalance = {}\n",
    "        for t in self.data.taus:\n",
    "            self.constraints.powerbalance[t] = m.addConstr(\n",
    "                gb.quicksum(self.variables.gprod[g, t] for g in self.data.generators),\n",
    "                gb.GRB.EQUAL,\n",
    "                self.variables.loadserved[t])\n",
    "            \n",
    "        \n",
    "        self.constraints.ramplimit_down = {}\n",
    "        self.constraints.ramplimit_up = {}\n",
    "        for t1, t2 in zip(self.data.taus[:-1], self.data.taus[1:]):\n",
    "            for g in self.data.generators:\n",
    "                self.constraints.ramplimit_up[g, t1] = m.addConstr(\n",
    "                    self.variables.gprod[g, t1] - self.variables.gprod[g, t2],\n",
    "                    gb.GRB.LESS_EQUAL,\n",
    "                    self.data.ramplimit[g]*self.data.maxprod[g])\n",
    "                self.constraints.ramplimit_down[g, t1] = m.addConstr(\n",
    "                    self.variables.gprod[g, t1] - self.variables.gprod[g, t2],\n",
    "                    gb.GRB.GREATER_EQUAL,\n",
    "                    -self.data.ramplimit[g]*self.data.maxprod[g])\n",
    "            \n",
    "        "
   ]
  },
  {
   "cell_type": "code",
   "execution_count": null,
   "metadata": {},
   "outputs": [],
   "source": [
    "mymarket = MarketClearing()\n",
    "mymarket.optimize()"
   ]
  },
  {
   "cell_type": "code",
   "execution_count": null,
   "metadata": {},
   "outputs": [],
   "source": [
    "df = pd.DataFrame(index=mymarket.data.taus, data={\n",
    "    'Price': [-mymarket.constraints.powerbalance[t].pi for t in mymarket.data.taus],\n",
    "    'G1 Production': [mymarket.variables.gprod['G1', t].x for t in mymarket.data.taus],\n",
    "    'G2 Production': [mymarket.variables.gprod['G2', t].x for t in mymarket.data.taus],\n",
    "    'G3 Production': [mymarket.variables.gprod['G3', t].x for t in mymarket.data.taus]})\n",
    "df.plot(marker='.')"
   ]
  },
  {
   "cell_type": "code",
   "execution_count": null,
   "metadata": {},
   "outputs": [],
   "source": [
    "df"
   ]
  },
  {
   "cell_type": "markdown",
   "metadata": {},
   "source": [
    "## Ex 2: Updating the large model\n",
    "\n",
    "Update the model in the following ways:\n",
    "- Add a wind generator W with 0\\$/MWh cost which has a maximum production between 0 and 10 MW, randomly selected for each hour\n",
    "- Add a function update_eps to the class which allows you to change the sensitivity of the consumers (Remember to check that the number given is negative and to rebuild the objective function! You will only need to add 4 lines to do this!)"
   ]
  },
  {
   "cell_type": "code",
   "execution_count": null,
   "metadata": {},
   "outputs": [],
   "source": []
  }
 ],
 "metadata": {
  "kernelspec": {
   "display_name": "Python 3",
   "language": "python",
   "name": "python3"
  },
  "language_info": {
   "codemirror_mode": {
    "name": "ipython",
    "version": 3
   },
   "file_extension": ".py",
   "mimetype": "text/x-python",
   "name": "python",
   "nbconvert_exporter": "python",
   "pygments_lexer": "ipython3",
   "version": "3.6.7"
  }
 },
 "nbformat": 4,
 "nbformat_minor": 1
}
